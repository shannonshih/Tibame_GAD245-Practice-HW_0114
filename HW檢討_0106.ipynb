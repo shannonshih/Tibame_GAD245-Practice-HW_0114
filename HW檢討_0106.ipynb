{
  "nbformat": 4,
  "nbformat_minor": 0,
  "metadata": {
    "colab": {
      "provenance": [],
      "authorship_tag": "ABX9TyNmzz4Z+moDC8iWq4eDn+HK",
      "include_colab_link": true
    },
    "kernelspec": {
      "name": "python3",
      "display_name": "Python 3"
    },
    "language_info": {
      "name": "python"
    }
  },
  "cells": [
    {
      "cell_type": "markdown",
      "metadata": {
        "id": "view-in-github",
        "colab_type": "text"
      },
      "source": [
        "<a href=\"https://colab.research.google.com/github/shannonshih/Tibame_GAD245-Practice-HW_0114/blob/main/HW%E6%AA%A2%E8%A8%8E_0106.ipynb\" target=\"_parent\"><img src=\"https://colab.research.google.com/assets/colab-badge.svg\" alt=\"Open In Colab\"/></a>"
      ]
    },
    {
      "cell_type": "code",
      "execution_count": 6,
      "metadata": {
        "colab": {
          "base_uri": "https://localhost:8080/"
        },
        "id": "wgYDU2vQYWWK",
        "outputId": "854d851e-4277-470e-fb45-6b0bbdd50384"
      },
      "outputs": [
        {
          "output_type": "stream",
          "name": "stdout",
          "text": [
            "走100階總共有 573147844013817084101 種方式\n"
          ]
        }
      ],
      "source": [
        "!!!第一題!!!\n",
        "\n",
        "# 前一階走到方式 prev1\n",
        "# 前兩階走到方式 prev2\n",
        "prev2, prev1 = 0, 0\n",
        "total = 100\n",
        "for i in range(total):\n",
        "    # 主要要解決: prev1, prev2的設定\n",
        "    if i == 0:\n",
        "        ans = 1\n",
        "        # 第一階\n",
        "        prev1 = 1\n",
        "    elif i == 1:\n",
        "        ans = 2\n",
        "        # 第一階, 第二階\n",
        "        prev2, prev1 = 1, 2\n",
        "    else:\n",
        "        ans = prev1 + prev2\n",
        "        # prev2 = prev1\n",
        "        # prev1 = ans\n",
        "        prev2, prev1 = prev1, ans\n",
        "\n",
        "print(\"走100階總共有\", ans, \"種方式\")"
      ]
    },
    {
      "cell_type": "code",
      "source": [
        "#\n",
        "steps = [0]\n",
        "#\n",
        "#\n",
        "total = 100\n",
        "for i in range(total):\n",
        "    if i == 0:\n",
        "        #\n",
        "        steps.append(1)\n",
        "    elif i == 1:\n",
        "        #\n",
        "        steps.append(2)\n",
        "    else:\n",
        "        way = steps[-1] + steps[-2]\n",
        "        steps.append(way)\n",
        "print(total, \"階總共有\", steps[-1])"
      ],
      "metadata": {
        "colab": {
          "base_uri": "https://localhost:8080/"
        },
        "id": "oDzObYALcBOv",
        "outputId": "5e53168c-c4a8-4939-a32f-41853d97e7fd"
      },
      "execution_count": 7,
      "outputs": [
        {
          "output_type": "stream",
          "name": "stdout",
          "text": [
            "100 階總共有 573147844013817084101\n"
          ]
        }
      ]
    },
    {
      "cell_type": "code",
      "source": [
        "# 變種:\n",
        "#\n",
        "steps = []\n",
        "real = []\n",
        "total = 5\n",
        "for i in range(total):\n",
        "    if i == 0:\n",
        "        #\n",
        "        steps.append(1)\n",
        "        ways = [\"1\"]\n",
        "        real.append(ways)\n",
        "    elif i == 1:\n",
        "        #\n",
        "        steps.append(2)\n",
        "        ways = [\"2\", \"1,1\"]\n",
        "        real.append(ways)\n",
        "    else:\n",
        "        way = steps[-1] + steps[-2]\n",
        "        steps.append(way)\n",
        "        # 做出新ways\n",
        "        ways = []\n",
        "        for j in real[-1]:\n",
        "            ways.append(j + \"1\")\n",
        "        for j in real[-2]:\n",
        "            ways.append(j + \"2\")\n",
        "        real.append(ways)\n",
        "print(real[-1])\n",
        "print(total, \"階總共有\", steps[-1])"
      ],
      "metadata": {
        "colab": {
          "base_uri": "https://localhost:8080/"
        },
        "id": "Rv-sOGb0jcT4",
        "outputId": "ac135c98-37cd-48bf-9c4c-3fea1bc92704"
      },
      "execution_count": 17,
      "outputs": [
        {
          "output_type": "stream",
          "name": "stdout",
          "text": [
            "['2111', '1,1111', '1211', '221', '1,121', '212', '1,112', '122']\n",
            "5 階總共有 8\n"
          ]
        }
      ]
    },
    {
      "cell_type": "code",
      "source": [
        "# 延伸: 如果我可以走1-n步\n",
        "steps = []\n",
        "total = 10\n",
        "n = 4\n",
        "for i in range(total):\n",
        "    # 真正可以抓的前幾層數\n",
        "    # 如果在第一層(i=0): 可以往前抓0層\n",
        "    # 如果在第二層(i=1): 可以往前多抓1\n",
        "    # 如果在第三層(i=2): 可以往前多抓2\n",
        "    # 如果在第四層(i=3): 正常, 1, 2, 3\n",
        "    if i < n:\n",
        "        # 不正常\n",
        "        ans = 1\n",
        "        realn = i\n",
        "    else:\n",
        "        # 正常\n",
        "        ans = 0\n",
        "        realn = n\n",
        "    for j in range(realn):\n",
        "        # 前一個[-1] 前兩個[-2]\n",
        "        ans = ans + steps[-j-1]\n",
        "    steps.append(ans)\n",
        "\n",
        "print(steps)\n",
        "print(total, \"階總共有\", steps[-1])"
      ],
      "metadata": {
        "colab": {
          "base_uri": "https://localhost:8080/"
        },
        "id": "1qXW2VPSmPQD",
        "outputId": "19bf03fb-de7a-4e8b-feb4-22a12c464f3b"
      },
      "execution_count": 18,
      "outputs": [
        {
          "output_type": "stream",
          "name": "stdout",
          "text": [
            "[1, 2, 4, 8, 15, 29, 56, 108, 208, 401]\n",
            "10 階總共有 401\n"
          ]
        }
      ]
    },
    {
      "cell_type": "code",
      "source": [
        "!!!先不要學這個!!!\n",
        "steps = []\n",
        "accu = [0]\n",
        "total = 10\n",
        "n = 4\n",
        "for i in range(total):\n",
        "    if i < n:\n",
        "        # 不正常: 1(直接從第0層走過來)\n",
        "        ans = 1\n",
        "    else:\n",
        "        # 正常\n",
        "        ans = 0\n",
        "    # 5層: [1, 2, 3, 6]\n",
        "    # accu: [0, 1, 3, 6, 12]\n",
        "    start, end = max(0, i-n), i\n",
        "    ans = ans + accu[end] - accu[start]\n",
        "    steps.append(ans)\n",
        "    accu.append(ans + accu[-1])\n",
        "\n",
        "print(steps)\n",
        "print(accu)\n",
        "print(total, \"階總共有\", steps[-1])"
      ],
      "metadata": {
        "colab": {
          "base_uri": "https://localhost:8080/"
        },
        "id": "6JjAA82ag4my",
        "outputId": "ecd686ff-9f08-4aa6-d7d9-0990f232cf66"
      },
      "execution_count": 13,
      "outputs": [
        {
          "output_type": "stream",
          "name": "stdout",
          "text": [
            "[1, 2, 4, 8, 15, 29, 56, 108, 208, 401]\n",
            "[0, 1, 3, 7, 15, 30, 59, 115, 223, 431, 832]\n",
            "10 階總共有 401\n"
          ]
        }
      ]
    },
    {
      "cell_type": "code",
      "source": [
        "# 前一階走到方式 prev1\n",
        "# 前兩階走到方式 prev2\n",
        "prev2, prev1 = 0, 0\n",
        "total = 100\n",
        "for i in range(total):\n",
        "    # 主要要解決: prev1, prev2的設定\n",
        "    if i == 0:\n",
        "        ans = 1\n",
        "        # 第一階\n",
        "        prev1 = 1\n",
        "    elif i == 1:\n",
        "        ans = 2\n",
        "        # 第一階, 第二階\n",
        "        prev2, prev1 = 1, 2\n",
        "    else:\n",
        "        ans = prev1 + prev2\n",
        "        # prev2 = prev1\n",
        "        # prev1 = ans\n",
        "        prev2, prev1 = prev1, ans\n",
        "\n",
        "print(\"走100階總共有\", ans, \"種方式\")"
      ],
      "metadata": {
        "id": "FSoBnLTDbHT4"
      },
      "execution_count": null,
      "outputs": []
    }
  ]
}